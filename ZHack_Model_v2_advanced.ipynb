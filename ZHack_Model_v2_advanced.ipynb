{
  "cells": [
    {
      "cell_type": "code",
      "execution_count": 1,
      "metadata": {
        "colab": {
          "base_uri": "https://localhost:8080/"
        },
        "id": "ORQHXeeSTF_x",
        "outputId": "da7a4770-2e0d-4970-c1a5-b8f304f4bf95"
      },
      "outputs": [
        {
          "output_type": "stream",
          "name": "stdout",
          "text": [
            "Importing all Libraries\n"
          ]
        }
      ],
      "source": [
        "print(\"Importing all Libraries\")\n",
        "\n",
        "import os\n",
        "import gc\n",
        "import time\n",
        "import json\n",
        "import numpy as np\n",
        "import pandas as pd\n",
        "import glob\n",
        "import time\n",
        "import matplotlib.pyplot as plt\n",
        "from datetime import timedelta, date\n",
        "import seaborn as sns\n",
        "import torch\n",
        "from fastai.tabular.all import *\n",
        "import pickle\n",
        "import datetime\n",
        "import matplotlib.pyplot as plt\n",
        "%matplotlib inline\n"
      ]
    },
    {
      "cell_type": "code",
      "execution_count": 2,
      "metadata": {
        "colab": {
          "base_uri": "https://localhost:8080/"
        },
        "id": "HN1wtGhXkFvu",
        "outputId": "a51dd7db-cbd1-4825-a1b4-e74ee59ecf9b"
      },
      "outputs": [
        {
          "output_type": "stream",
          "name": "stdout",
          "text": [
            "Requirement already satisfied: tensorflow in /usr/local/lib/python3.10/dist-packages (2.12.0)\n",
            "Requirement already satisfied: absl-py>=1.0.0 in /usr/local/lib/python3.10/dist-packages (from tensorflow) (1.4.0)\n",
            "Requirement already satisfied: astunparse>=1.6.0 in /usr/local/lib/python3.10/dist-packages (from tensorflow) (1.6.3)\n",
            "Requirement already satisfied: flatbuffers>=2.0 in /usr/local/lib/python3.10/dist-packages (from tensorflow) (23.5.26)\n",
            "Requirement already satisfied: gast<=0.4.0,>=0.2.1 in /usr/local/lib/python3.10/dist-packages (from tensorflow) (0.4.0)\n",
            "Requirement already satisfied: google-pasta>=0.1.1 in /usr/local/lib/python3.10/dist-packages (from tensorflow) (0.2.0)\n",
            "Requirement already satisfied: grpcio<2.0,>=1.24.3 in /usr/local/lib/python3.10/dist-packages (from tensorflow) (1.56.0)\n",
            "Requirement already satisfied: h5py>=2.9.0 in /usr/local/lib/python3.10/dist-packages (from tensorflow) (3.8.0)\n",
            "Requirement already satisfied: jax>=0.3.15 in /usr/local/lib/python3.10/dist-packages (from tensorflow) (0.4.10)\n",
            "Requirement already satisfied: keras<2.13,>=2.12.0 in /usr/local/lib/python3.10/dist-packages (from tensorflow) (2.12.0)\n",
            "Requirement already satisfied: libclang>=13.0.0 in /usr/local/lib/python3.10/dist-packages (from tensorflow) (16.0.0)\n",
            "Requirement already satisfied: numpy<1.24,>=1.22 in /usr/local/lib/python3.10/dist-packages (from tensorflow) (1.22.4)\n",
            "Requirement already satisfied: opt-einsum>=2.3.2 in /usr/local/lib/python3.10/dist-packages (from tensorflow) (3.3.0)\n",
            "Requirement already satisfied: packaging in /usr/local/lib/python3.10/dist-packages (from tensorflow) (23.1)\n",
            "Requirement already satisfied: protobuf!=4.21.0,!=4.21.1,!=4.21.2,!=4.21.3,!=4.21.4,!=4.21.5,<5.0.0dev,>=3.20.3 in /usr/local/lib/python3.10/dist-packages (from tensorflow) (3.20.3)\n",
            "Requirement already satisfied: setuptools in /usr/local/lib/python3.10/dist-packages (from tensorflow) (67.7.2)\n",
            "Requirement already satisfied: six>=1.12.0 in /usr/local/lib/python3.10/dist-packages (from tensorflow) (1.16.0)\n",
            "Requirement already satisfied: tensorboard<2.13,>=2.12 in /usr/local/lib/python3.10/dist-packages (from tensorflow) (2.12.3)\n",
            "Requirement already satisfied: tensorflow-estimator<2.13,>=2.12.0 in /usr/local/lib/python3.10/dist-packages (from tensorflow) (2.12.0)\n",
            "Requirement already satisfied: termcolor>=1.1.0 in /usr/local/lib/python3.10/dist-packages (from tensorflow) (2.3.0)\n",
            "Requirement already satisfied: typing-extensions>=3.6.6 in /usr/local/lib/python3.10/dist-packages (from tensorflow) (4.6.3)\n",
            "Requirement already satisfied: wrapt<1.15,>=1.11.0 in /usr/local/lib/python3.10/dist-packages (from tensorflow) (1.14.1)\n",
            "Requirement already satisfied: tensorflow-io-gcs-filesystem>=0.23.1 in /usr/local/lib/python3.10/dist-packages (from tensorflow) (0.32.0)\n",
            "Requirement already satisfied: wheel<1.0,>=0.23.0 in /usr/local/lib/python3.10/dist-packages (from astunparse>=1.6.0->tensorflow) (0.40.0)\n",
            "Requirement already satisfied: ml-dtypes>=0.1.0 in /usr/local/lib/python3.10/dist-packages (from jax>=0.3.15->tensorflow) (0.2.0)\n",
            "Requirement already satisfied: scipy>=1.7 in /usr/local/lib/python3.10/dist-packages (from jax>=0.3.15->tensorflow) (1.10.1)\n",
            "Requirement already satisfied: google-auth<3,>=1.6.3 in /usr/local/lib/python3.10/dist-packages (from tensorboard<2.13,>=2.12->tensorflow) (2.17.3)\n",
            "Requirement already satisfied: google-auth-oauthlib<1.1,>=0.5 in /usr/local/lib/python3.10/dist-packages (from tensorboard<2.13,>=2.12->tensorflow) (1.0.0)\n",
            "Requirement already satisfied: markdown>=2.6.8 in /usr/local/lib/python3.10/dist-packages (from tensorboard<2.13,>=2.12->tensorflow) (3.4.3)\n",
            "Requirement already satisfied: requests<3,>=2.21.0 in /usr/local/lib/python3.10/dist-packages (from tensorboard<2.13,>=2.12->tensorflow) (2.27.1)\n",
            "Requirement already satisfied: tensorboard-data-server<0.8.0,>=0.7.0 in /usr/local/lib/python3.10/dist-packages (from tensorboard<2.13,>=2.12->tensorflow) (0.7.1)\n",
            "Requirement already satisfied: werkzeug>=1.0.1 in /usr/local/lib/python3.10/dist-packages (from tensorboard<2.13,>=2.12->tensorflow) (2.3.6)\n",
            "Requirement already satisfied: cachetools<6.0,>=2.0.0 in /usr/local/lib/python3.10/dist-packages (from google-auth<3,>=1.6.3->tensorboard<2.13,>=2.12->tensorflow) (5.3.1)\n",
            "Requirement already satisfied: pyasn1-modules>=0.2.1 in /usr/local/lib/python3.10/dist-packages (from google-auth<3,>=1.6.3->tensorboard<2.13,>=2.12->tensorflow) (0.3.0)\n",
            "Requirement already satisfied: rsa<5,>=3.1.4 in /usr/local/lib/python3.10/dist-packages (from google-auth<3,>=1.6.3->tensorboard<2.13,>=2.12->tensorflow) (4.9)\n",
            "Requirement already satisfied: requests-oauthlib>=0.7.0 in /usr/local/lib/python3.10/dist-packages (from google-auth-oauthlib<1.1,>=0.5->tensorboard<2.13,>=2.12->tensorflow) (1.3.1)\n",
            "Requirement already satisfied: urllib3<1.27,>=1.21.1 in /usr/local/lib/python3.10/dist-packages (from requests<3,>=2.21.0->tensorboard<2.13,>=2.12->tensorflow) (1.26.16)\n",
            "Requirement already satisfied: certifi>=2017.4.17 in /usr/local/lib/python3.10/dist-packages (from requests<3,>=2.21.0->tensorboard<2.13,>=2.12->tensorflow) (2023.5.7)\n",
            "Requirement already satisfied: charset-normalizer~=2.0.0 in /usr/local/lib/python3.10/dist-packages (from requests<3,>=2.21.0->tensorboard<2.13,>=2.12->tensorflow) (2.0.12)\n",
            "Requirement already satisfied: idna<4,>=2.5 in /usr/local/lib/python3.10/dist-packages (from requests<3,>=2.21.0->tensorboard<2.13,>=2.12->tensorflow) (3.4)\n",
            "Requirement already satisfied: MarkupSafe>=2.1.1 in /usr/local/lib/python3.10/dist-packages (from werkzeug>=1.0.1->tensorboard<2.13,>=2.12->tensorflow) (2.1.3)\n",
            "Requirement already satisfied: pyasn1<0.6.0,>=0.4.6 in /usr/local/lib/python3.10/dist-packages (from pyasn1-modules>=0.2.1->google-auth<3,>=1.6.3->tensorboard<2.13,>=2.12->tensorflow) (0.5.0)\n",
            "Requirement already satisfied: oauthlib>=3.0.0 in /usr/local/lib/python3.10/dist-packages (from requests-oauthlib>=0.7.0->google-auth-oauthlib<1.1,>=0.5->tensorboard<2.13,>=2.12->tensorflow) (3.2.2)\n"
          ]
        }
      ],
      "source": [
        "!pip install tensorflow"
      ]
    },
    {
      "cell_type": "code",
      "execution_count": 3,
      "metadata": {
        "id": "wZ4BnbbKkGcJ"
      },
      "outputs": [],
      "source": [
        "import io\n",
        "import os\n",
        "import re\n",
        "import shutil\n",
        "import string\n",
        "import tensorflow as tf\n",
        "\n",
        "from tensorflow import keras\n",
        "from tensorflow.keras import Sequential, layers\n",
        "from tensorflow.keras.layers import Dense, Embedding, GlobalAveragePooling1D\n",
        "from tensorflow.keras.layers.experimental.preprocessing import TextVectorization\n",
        "\n",
        "from keras.preprocessing.text import one_hot\n",
        "#from keras.preprocessing.sequence import pad_sequences\n",
        "from keras.models import Sequential\n",
        "from keras.layers import Dense\n",
        "from keras.layers import Flatten\n",
        "from keras.layers import Embedding\n",
        "from keras.layers import Embedding\n",
        "\n",
        "from tensorflow.keras.layers.experimental.preprocessing import TextVectorization\n",
        "from tensorflow.keras.layers import Embedding\n",
        "from tensorflow.keras import layers\n"
      ]
    },
    {
      "cell_type": "code",
      "execution_count": 3,
      "metadata": {
        "id": "gfvhW0P1kKG6"
      },
      "outputs": [],
      "source": []
    },
    {
      "cell_type": "code",
      "execution_count": 4,
      "metadata": {
        "id": "OCikMZ0c6IUE"
      },
      "outputs": [],
      "source": [
        "pd.set_option('display.max_columns', None)\n",
        "pd.set_option('display.max_rows', None)\n",
        "pd.set_option('display.max_colwidth', None)\n",
        "pd.options.display.float_format='{:,.4f}'.format\n",
        "pd.options.display.max_rows=200\n",
        "pd.set_option('display.max_rows',800)\n",
        "pd.set_option('display.max_columns',500)\n",
        "pd.set_option('display.width',1000)"
      ]
    },
    {
      "cell_type": "code",
      "execution_count": 5,
      "metadata": {
        "id": "jZ0Ca6315owc"
      },
      "outputs": [],
      "source": [
        "df1 = pd.read_parquet('/content/drive/MyDrive/Dresses_2022_23.parquet', engine='pyarrow')"
      ]
    },
    {
      "cell_type": "code",
      "execution_count": 6,
      "metadata": {
        "colab": {
          "base_uri": "https://localhost:8080/"
        },
        "id": "QVyvdnem-idl",
        "outputId": "f7ab9788-f973-4744-a1a0-8b9143dbc6f3"
      },
      "outputs": [
        {
          "output_type": "execute_result",
          "data": {
            "text/plain": [
              "2831643"
            ]
          },
          "metadata": {},
          "execution_count": 6
        }
      ],
      "source": [
        "len(df1)"
      ]
    },
    {
      "cell_type": "code",
      "execution_count": 7,
      "metadata": {
        "id": "9Si3dtSj6xaS"
      },
      "outputs": [],
      "source": [
        "df1 = df1[df1['product_gender']=='Female']\n"
      ]
    },
    {
      "cell_type": "code",
      "execution_count": null,
      "metadata": {
        "colab": {
          "base_uri": "https://localhost:8080/"
        },
        "id": "KQV6DBfmOMX2",
        "outputId": "78291fc1-ac4e-46a0-ab69-954d7b74b698"
      },
      "outputs": [
        {
          "output_type": "execute_result",
          "data": {
            "text/plain": [
              "Others            2189659\n",
              "Size Too Large     235535\n",
              "Size Too Small     219596\n",
              "Name: return_reason, dtype: int64"
            ]
          },
          "metadata": {},
          "execution_count": 8
        }
      ],
      "source": [
        "df1['return_reason'].value_counts()"
      ]
    },
    {
      "cell_type": "code",
      "execution_count": null,
      "metadata": {
        "colab": {
          "base_uri": "https://localhost:8080/",
          "height": 669
        },
        "id": "jQyI6ZPvpt22",
        "outputId": "71ca957c-4a43-44b3-a5a2-ef761d6bb762"
      },
      "outputs": [
        {
          "output_type": "execute_result",
          "data": {
            "text/plain": [
              "     id_customer  customer_age  gender venture_code   order_nr  id_sales_order_item    order_created_at        sku_config               sku_simple sub_category_type      customer_type size_brand size_name size_system_name     brand_name product_gender department_code color_family             color buying_planning_cat_type                            product_name                                                              image_url              material reason_type   return_reason   outcome size_2     size_sys_2                                                                                                                                                  measurements bust waist                                        modelbodymeasurements modeiswearing chest hip\n",
              "0 3,440,159.0000       30.0000  female           ph  216469169             34696129 2022-05-13 17:55:31  9F5D1AAFE63E87GS  9F5D1AAFE63E87GS-073CZU           Dresses  Existing Customer                  S/M    International         Miss M         Female              MP        white  Polka, Off White                     Wapp  Polka Dots Button-up French Wrap Dress         https://zstaticph01-a.akamaihd.net/p/miss-m-0113-3806322-1.jpg                              None          Others       net    S/M  International  One size, Free size /> Bust: 90cm /> Waist: 82cm (wrap waist, adjustable) /> Hips: 104cm /> Length: 102cm /> Please allow 13cm error for manual measurement.                                                                                                \n",
              "1    16,626.0000       37.0000  female           sg  268373396             33375701 2022-07-07 23:55:08  F738BAAACFBE0EGS  F738BAAACFBE0EGS-050BEN           Dresses  Existing Customer                   XS    International    ZALORA WORK         Female             RPL        green       Olive Green                     Wapp                 Button Down Shirt Dress    https://zstaticmy01-a.akamaihd.net/p/zalora-work-3862-5636372-1.jpg   100%Polyester Woven    returned  Size Too Large  returned     XS  International                                                                                                                                                                           Height: 5'9\\\"\\\">Bust: 33.5\\\"\\\">Waist: 25\\\"\\\">Hips: 34.5\\\"\\\"             S          \n",
              "2    16,626.0000       37.0000  female           sg  268373396             33375701 2022-07-07 23:55:08  F738BAAACFBE0EGS  F738BAAACFBE0EGS-050BEN           Dresses  Existing Customer                   XS    International    ZALORA WORK         Female             RPL        green       Olive Green                     Wapp                 Button Down Shirt Dress    https://zstaticmy01-a.akamaihd.net/p/zalora-work-3862-5636372-1.jpg   100%Polyester Woven    returned  Size Too Large  returned     XS  International                                                                                                                                                                                                                                                              \n",
              "3   727,440.0000           NaN  female           sg  261797586             34934319 2022-10-28 00:33:02  966DCAA892C0F2GS  966DCAA892C0F2GS-020WTN           Dresses  Existing Customer                    S    International    ZALORA WORK         Female             RPL         pink             Blush                     Wapp               Asymmetric Hem Wrap Dress    https://zstaticmy01-a.akamaihd.net/p/zalora-work-5050-6001342-1.jpg        100% Polyester    returned  Size Too Small  returned      S  International                                                                                                                                                                                                                                                              \n",
              "4 2,305,452.0000       26.0000  female           sg  247986496             31518705 2022-03-03 21:55:34  874A3AA6E38B7DGS  874A3AA6E38B7DGS-002MSR           Dresses  Existing Customer                    M    International  ZALORA BASICS         Female             RPL        multi  Sage/Black Spots                     Wapp   Drawstring Waist Balloon Sleeve Dress  https://zstaticmy01-a.akamaihd.net/p/zalora-basics-6861-0389642-1.jpg  100% Polyester Woven        None          Others       net      M  International                                                                                                                                                                                                                                                              "
            ],
            "text/html": [
              "\n",
              "  <div id=\"df-c60e492a-33b8-4079-b27a-c2a1e59839a5\">\n",
              "    <div class=\"colab-df-container\">\n",
              "      <div>\n",
              "<style scoped>\n",
              "    .dataframe tbody tr th:only-of-type {\n",
              "        vertical-align: middle;\n",
              "    }\n",
              "\n",
              "    .dataframe tbody tr th {\n",
              "        vertical-align: top;\n",
              "    }\n",
              "\n",
              "    .dataframe thead th {\n",
              "        text-align: right;\n",
              "    }\n",
              "</style>\n",
              "<table border=\"1\" class=\"dataframe\">\n",
              "  <thead>\n",
              "    <tr style=\"text-align: right;\">\n",
              "      <th></th>\n",
              "      <th>id_customer</th>\n",
              "      <th>customer_age</th>\n",
              "      <th>gender</th>\n",
              "      <th>venture_code</th>\n",
              "      <th>order_nr</th>\n",
              "      <th>id_sales_order_item</th>\n",
              "      <th>order_created_at</th>\n",
              "      <th>sku_config</th>\n",
              "      <th>sku_simple</th>\n",
              "      <th>sub_category_type</th>\n",
              "      <th>customer_type</th>\n",
              "      <th>size_brand</th>\n",
              "      <th>size_name</th>\n",
              "      <th>size_system_name</th>\n",
              "      <th>brand_name</th>\n",
              "      <th>product_gender</th>\n",
              "      <th>department_code</th>\n",
              "      <th>color_family</th>\n",
              "      <th>color</th>\n",
              "      <th>buying_planning_cat_type</th>\n",
              "      <th>product_name</th>\n",
              "      <th>image_url</th>\n",
              "      <th>material</th>\n",
              "      <th>reason_type</th>\n",
              "      <th>return_reason</th>\n",
              "      <th>outcome</th>\n",
              "      <th>size_2</th>\n",
              "      <th>size_sys_2</th>\n",
              "      <th>measurements</th>\n",
              "      <th>bust</th>\n",
              "      <th>waist</th>\n",
              "      <th>modelbodymeasurements</th>\n",
              "      <th>modeiswearing</th>\n",
              "      <th>chest</th>\n",
              "      <th>hip</th>\n",
              "    </tr>\n",
              "  </thead>\n",
              "  <tbody>\n",
              "    <tr>\n",
              "      <th>0</th>\n",
              "      <td>3,440,159.0000</td>\n",
              "      <td>30.0000</td>\n",
              "      <td>female</td>\n",
              "      <td>ph</td>\n",
              "      <td>216469169</td>\n",
              "      <td>34696129</td>\n",
              "      <td>2022-05-13 17:55:31</td>\n",
              "      <td>9F5D1AAFE63E87GS</td>\n",
              "      <td>9F5D1AAFE63E87GS-073CZU</td>\n",
              "      <td>Dresses</td>\n",
              "      <td>Existing Customer</td>\n",
              "      <td></td>\n",
              "      <td>S/M</td>\n",
              "      <td>International</td>\n",
              "      <td>Miss M</td>\n",
              "      <td>Female</td>\n",
              "      <td>MP</td>\n",
              "      <td>white</td>\n",
              "      <td>Polka, Off White</td>\n",
              "      <td>Wapp</td>\n",
              "      <td>Polka Dots Button-up French Wrap Dress</td>\n",
              "      <td>https://zstaticph01-a.akamaihd.net/p/miss-m-0113-3806322-1.jpg</td>\n",
              "      <td></td>\n",
              "      <td>None</td>\n",
              "      <td>Others</td>\n",
              "      <td>net</td>\n",
              "      <td>S/M</td>\n",
              "      <td>International</td>\n",
              "      <td>One size, Free size /&gt; Bust: 90cm /&gt; Waist: 82cm (wrap waist, adjustable) /&gt; Hips: 104cm /&gt; Length: 102cm /&gt; Please allow 13cm error for manual measurement.</td>\n",
              "      <td></td>\n",
              "      <td></td>\n",
              "      <td></td>\n",
              "      <td></td>\n",
              "      <td></td>\n",
              "      <td></td>\n",
              "    </tr>\n",
              "    <tr>\n",
              "      <th>1</th>\n",
              "      <td>16,626.0000</td>\n",
              "      <td>37.0000</td>\n",
              "      <td>female</td>\n",
              "      <td>sg</td>\n",
              "      <td>268373396</td>\n",
              "      <td>33375701</td>\n",
              "      <td>2022-07-07 23:55:08</td>\n",
              "      <td>F738BAAACFBE0EGS</td>\n",
              "      <td>F738BAAACFBE0EGS-050BEN</td>\n",
              "      <td>Dresses</td>\n",
              "      <td>Existing Customer</td>\n",
              "      <td></td>\n",
              "      <td>XS</td>\n",
              "      <td>International</td>\n",
              "      <td>ZALORA WORK</td>\n",
              "      <td>Female</td>\n",
              "      <td>RPL</td>\n",
              "      <td>green</td>\n",
              "      <td>Olive Green</td>\n",
              "      <td>Wapp</td>\n",
              "      <td>Button Down Shirt Dress</td>\n",
              "      <td>https://zstaticmy01-a.akamaihd.net/p/zalora-work-3862-5636372-1.jpg</td>\n",
              "      <td>100%Polyester Woven</td>\n",
              "      <td>returned</td>\n",
              "      <td>Size Too Large</td>\n",
              "      <td>returned</td>\n",
              "      <td>XS</td>\n",
              "      <td>International</td>\n",
              "      <td></td>\n",
              "      <td></td>\n",
              "      <td></td>\n",
              "      <td>Height: 5'9\\\"\\\"&gt;Bust: 33.5\\\"\\\"&gt;Waist: 25\\\"\\\"&gt;Hips: 34.5\\\"\\\"</td>\n",
              "      <td>S</td>\n",
              "      <td></td>\n",
              "      <td></td>\n",
              "    </tr>\n",
              "    <tr>\n",
              "      <th>2</th>\n",
              "      <td>16,626.0000</td>\n",
              "      <td>37.0000</td>\n",
              "      <td>female</td>\n",
              "      <td>sg</td>\n",
              "      <td>268373396</td>\n",
              "      <td>33375701</td>\n",
              "      <td>2022-07-07 23:55:08</td>\n",
              "      <td>F738BAAACFBE0EGS</td>\n",
              "      <td>F738BAAACFBE0EGS-050BEN</td>\n",
              "      <td>Dresses</td>\n",
              "      <td>Existing Customer</td>\n",
              "      <td></td>\n",
              "      <td>XS</td>\n",
              "      <td>International</td>\n",
              "      <td>ZALORA WORK</td>\n",
              "      <td>Female</td>\n",
              "      <td>RPL</td>\n",
              "      <td>green</td>\n",
              "      <td>Olive Green</td>\n",
              "      <td>Wapp</td>\n",
              "      <td>Button Down Shirt Dress</td>\n",
              "      <td>https://zstaticmy01-a.akamaihd.net/p/zalora-work-3862-5636372-1.jpg</td>\n",
              "      <td>100%Polyester Woven</td>\n",
              "      <td>returned</td>\n",
              "      <td>Size Too Large</td>\n",
              "      <td>returned</td>\n",
              "      <td>XS</td>\n",
              "      <td>International</td>\n",
              "      <td></td>\n",
              "      <td></td>\n",
              "      <td></td>\n",
              "      <td></td>\n",
              "      <td></td>\n",
              "      <td></td>\n",
              "      <td></td>\n",
              "    </tr>\n",
              "    <tr>\n",
              "      <th>3</th>\n",
              "      <td>727,440.0000</td>\n",
              "      <td>NaN</td>\n",
              "      <td>female</td>\n",
              "      <td>sg</td>\n",
              "      <td>261797586</td>\n",
              "      <td>34934319</td>\n",
              "      <td>2022-10-28 00:33:02</td>\n",
              "      <td>966DCAA892C0F2GS</td>\n",
              "      <td>966DCAA892C0F2GS-020WTN</td>\n",
              "      <td>Dresses</td>\n",
              "      <td>Existing Customer</td>\n",
              "      <td></td>\n",
              "      <td>S</td>\n",
              "      <td>International</td>\n",
              "      <td>ZALORA WORK</td>\n",
              "      <td>Female</td>\n",
              "      <td>RPL</td>\n",
              "      <td>pink</td>\n",
              "      <td>Blush</td>\n",
              "      <td>Wapp</td>\n",
              "      <td>Asymmetric Hem Wrap Dress</td>\n",
              "      <td>https://zstaticmy01-a.akamaihd.net/p/zalora-work-5050-6001342-1.jpg</td>\n",
              "      <td>100% Polyester</td>\n",
              "      <td>returned</td>\n",
              "      <td>Size Too Small</td>\n",
              "      <td>returned</td>\n",
              "      <td>S</td>\n",
              "      <td>International</td>\n",
              "      <td></td>\n",
              "      <td></td>\n",
              "      <td></td>\n",
              "      <td></td>\n",
              "      <td></td>\n",
              "      <td></td>\n",
              "      <td></td>\n",
              "    </tr>\n",
              "    <tr>\n",
              "      <th>4</th>\n",
              "      <td>2,305,452.0000</td>\n",
              "      <td>26.0000</td>\n",
              "      <td>female</td>\n",
              "      <td>sg</td>\n",
              "      <td>247986496</td>\n",
              "      <td>31518705</td>\n",
              "      <td>2022-03-03 21:55:34</td>\n",
              "      <td>874A3AA6E38B7DGS</td>\n",
              "      <td>874A3AA6E38B7DGS-002MSR</td>\n",
              "      <td>Dresses</td>\n",
              "      <td>Existing Customer</td>\n",
              "      <td></td>\n",
              "      <td>M</td>\n",
              "      <td>International</td>\n",
              "      <td>ZALORA BASICS</td>\n",
              "      <td>Female</td>\n",
              "      <td>RPL</td>\n",
              "      <td>multi</td>\n",
              "      <td>Sage/Black Spots</td>\n",
              "      <td>Wapp</td>\n",
              "      <td>Drawstring Waist Balloon Sleeve Dress</td>\n",
              "      <td>https://zstaticmy01-a.akamaihd.net/p/zalora-basics-6861-0389642-1.jpg</td>\n",
              "      <td>100% Polyester Woven</td>\n",
              "      <td>None</td>\n",
              "      <td>Others</td>\n",
              "      <td>net</td>\n",
              "      <td>M</td>\n",
              "      <td>International</td>\n",
              "      <td></td>\n",
              "      <td></td>\n",
              "      <td></td>\n",
              "      <td></td>\n",
              "      <td></td>\n",
              "      <td></td>\n",
              "      <td></td>\n",
              "    </tr>\n",
              "  </tbody>\n",
              "</table>\n",
              "</div>\n",
              "      <button class=\"colab-df-convert\" onclick=\"convertToInteractive('df-c60e492a-33b8-4079-b27a-c2a1e59839a5')\"\n",
              "              title=\"Convert this dataframe to an interactive table.\"\n",
              "              style=\"display:none;\">\n",
              "        \n",
              "  <svg xmlns=\"http://www.w3.org/2000/svg\" height=\"24px\"viewBox=\"0 0 24 24\"\n",
              "       width=\"24px\">\n",
              "    <path d=\"M0 0h24v24H0V0z\" fill=\"none\"/>\n",
              "    <path d=\"M18.56 5.44l.94 2.06.94-2.06 2.06-.94-2.06-.94-.94-2.06-.94 2.06-2.06.94zm-11 1L8.5 8.5l.94-2.06 2.06-.94-2.06-.94L8.5 2.5l-.94 2.06-2.06.94zm10 10l.94 2.06.94-2.06 2.06-.94-2.06-.94-.94-2.06-.94 2.06-2.06.94z\"/><path d=\"M17.41 7.96l-1.37-1.37c-.4-.4-.92-.59-1.43-.59-.52 0-1.04.2-1.43.59L10.3 9.45l-7.72 7.72c-.78.78-.78 2.05 0 2.83L4 21.41c.39.39.9.59 1.41.59.51 0 1.02-.2 1.41-.59l7.78-7.78 2.81-2.81c.8-.78.8-2.07 0-2.86zM5.41 20L4 18.59l7.72-7.72 1.47 1.35L5.41 20z\"/>\n",
              "  </svg>\n",
              "      </button>\n",
              "      \n",
              "  <style>\n",
              "    .colab-df-container {\n",
              "      display:flex;\n",
              "      flex-wrap:wrap;\n",
              "      gap: 12px;\n",
              "    }\n",
              "\n",
              "    .colab-df-convert {\n",
              "      background-color: #E8F0FE;\n",
              "      border: none;\n",
              "      border-radius: 50%;\n",
              "      cursor: pointer;\n",
              "      display: none;\n",
              "      fill: #1967D2;\n",
              "      height: 32px;\n",
              "      padding: 0 0 0 0;\n",
              "      width: 32px;\n",
              "    }\n",
              "\n",
              "    .colab-df-convert:hover {\n",
              "      background-color: #E2EBFA;\n",
              "      box-shadow: 0px 1px 2px rgba(60, 64, 67, 0.3), 0px 1px 3px 1px rgba(60, 64, 67, 0.15);\n",
              "      fill: #174EA6;\n",
              "    }\n",
              "\n",
              "    [theme=dark] .colab-df-convert {\n",
              "      background-color: #3B4455;\n",
              "      fill: #D2E3FC;\n",
              "    }\n",
              "\n",
              "    [theme=dark] .colab-df-convert:hover {\n",
              "      background-color: #434B5C;\n",
              "      box-shadow: 0px 1px 3px 1px rgba(0, 0, 0, 0.15);\n",
              "      filter: drop-shadow(0px 1px 2px rgba(0, 0, 0, 0.3));\n",
              "      fill: #FFFFFF;\n",
              "    }\n",
              "  </style>\n",
              "\n",
              "      <script>\n",
              "        const buttonEl =\n",
              "          document.querySelector('#df-c60e492a-33b8-4079-b27a-c2a1e59839a5 button.colab-df-convert');\n",
              "        buttonEl.style.display =\n",
              "          google.colab.kernel.accessAllowed ? 'block' : 'none';\n",
              "\n",
              "        async function convertToInteractive(key) {\n",
              "          const element = document.querySelector('#df-c60e492a-33b8-4079-b27a-c2a1e59839a5');\n",
              "          const dataTable =\n",
              "            await google.colab.kernel.invokeFunction('convertToInteractive',\n",
              "                                                     [key], {});\n",
              "          if (!dataTable) return;\n",
              "\n",
              "          const docLinkHtml = 'Like what you see? Visit the ' +\n",
              "            '<a target=\"_blank\" href=https://colab.research.google.com/notebooks/data_table.ipynb>data table notebook</a>'\n",
              "            + ' to learn more about interactive tables.';\n",
              "          element.innerHTML = '';\n",
              "          dataTable['output_type'] = 'display_data';\n",
              "          await google.colab.output.renderOutput(dataTable, element);\n",
              "          const docLink = document.createElement('div');\n",
              "          docLink.innerHTML = docLinkHtml;\n",
              "          element.appendChild(docLink);\n",
              "        }\n",
              "      </script>\n",
              "    </div>\n",
              "  </div>\n",
              "  "
            ]
          },
          "metadata": {},
          "execution_count": 8
        }
      ],
      "source": [
        "df1.head()"
      ]
    },
    {
      "cell_type": "code",
      "execution_count": null,
      "metadata": {
        "colab": {
          "base_uri": "https://localhost:8080/"
        },
        "id": "AWA0fwcGR5wF",
        "outputId": "6d4e70bd-960f-466d-bc4e-79a9137c4aba"
      },
      "outputs": [
        {
          "output_type": "execute_result",
          "data": {
            "text/plain": [
              "2644790"
            ]
          },
          "metadata": {},
          "execution_count": 9
        }
      ],
      "source": [
        "len(df1[(df1['bust'].notnull()) & (df1['waist'].notnull()) & (df1['chest'].notnull()) & (df1['hip'].notnull())])"
      ]
    },
    {
      "cell_type": "code",
      "execution_count": 11,
      "metadata": {
        "id": "pDSgzMgZlFMa"
      },
      "outputs": [],
      "source": [
        "mask1 = (df1['bust'].notnull()) & (df1['waist'].notnull()) & (df1['hip'].notnull()) & (df1['bust']!= '') & (df1['waist']!= '') & (df1['hip']!='')\n",
        "\n",
        "df1 = df1[mask1].copy()"
      ]
    },
    {
      "cell_type": "code",
      "execution_count": 9,
      "metadata": {
        "colab": {
          "base_uri": "https://localhost:8080/"
        },
        "id": "6N7aD2Ivl_hk",
        "outputId": "a83e0735-06d5-4ecf-ad56-4cf15c0792af"
      },
      "outputs": [
        {
          "output_type": "execute_result",
          "data": {
            "text/plain": [
              "328891"
            ]
          },
          "metadata": {},
          "execution_count": 9
        }
      ],
      "source": [
        "len(df1)"
      ]
    },
    {
      "cell_type": "code",
      "execution_count": null,
      "metadata": {
        "colab": {
          "base_uri": "https://localhost:8080/"
        },
        "id": "CzVf6OBiK-br",
        "outputId": "313bfd4a-3771-44d8-88f9-0a23c622101a"
      },
      "outputs": [
        {
          "output_type": "execute_result",
          "data": {
            "text/plain": [
              "13572"
            ]
          },
          "metadata": {},
          "execution_count": 10
        }
      ],
      "source": [
        "df1['sku_simple'].nunique()"
      ]
    },
    {
      "cell_type": "code",
      "execution_count": null,
      "metadata": {
        "colab": {
          "base_uri": "https://localhost:8080/"
        },
        "id": "CZK8iHYXLAXA",
        "outputId": "93cede50-65b6-40f2-a4af-1ff39a27cb64"
      },
      "outputs": [
        {
          "output_type": "execute_result",
          "data": {
            "text/plain": [
              "60749"
            ]
          },
          "metadata": {},
          "execution_count": 11
        }
      ],
      "source": [
        "df1['id_customer'].nunique()"
      ]
    },
    {
      "cell_type": "code",
      "source": [
        "df1['id_customer'].dtypes"
      ],
      "metadata": {
        "colab": {
          "base_uri": "https://localhost:8080/"
        },
        "id": "8mcgfrN5RCxE",
        "outputId": "95e9b16e-c64d-426f-c4fc-00d778ce7796"
      },
      "execution_count": null,
      "outputs": [
        {
          "output_type": "execute_result",
          "data": {
            "text/plain": [
              "dtype('int64')"
            ]
          },
          "metadata": {},
          "execution_count": 14
        }
      ]
    },
    {
      "cell_type": "code",
      "execution_count": 12,
      "metadata": {
        "id": "DN_gGHJZLG6C",
        "colab": {
          "base_uri": "https://localhost:8080/"
        },
        "outputId": "297254a1-5c01-41df-c9c6-67e1eccfa058"
      },
      "outputs": [
        {
          "output_type": "execute_result",
          "data": {
            "text/plain": [
              "12    1326209\n",
              "29    4139843\n",
              "50    1326209\n",
              "51    1326209\n",
              "60    4443492\n",
              "Name: id_customer, dtype: int64"
            ]
          },
          "metadata": {},
          "execution_count": 12
        }
      ],
      "source": [
        "df1['id_customer'] = df1['id_customer'].fillna(0).astype('int')\n",
        "df1['id_customer'].head()"
      ]
    },
    {
      "cell_type": "code",
      "execution_count": null,
      "metadata": {
        "colab": {
          "base_uri": "https://localhost:8080/"
        },
        "id": "8SpBM9zHLPE7",
        "outputId": "4ecda1ef-a7dd-4951-a636-32b3edb52d8a"
      },
      "outputs": [
        {
          "output_type": "execute_result",
          "data": {
            "text/plain": [
              "Others            269641\n",
              "Size Too Small     30705\n",
              "Size Too Large     28545\n",
              "Name: return_reason, dtype: int64"
            ]
          },
          "metadata": {},
          "execution_count": 15
        }
      ],
      "source": [
        "df1['return_reason'].value_counts()"
      ]
    },
    {
      "cell_type": "code",
      "execution_count": 13,
      "metadata": {
        "id": "364KI4KJCuv0"
      },
      "outputs": [],
      "source": [
        "df1['record_keep'] = np.where(df1['outcome']=='net', 1,\n",
        "                              np.where((df1['outcome']=='returned') & (df1['return_reason'].isin(['Size Too Small', 'Size Too Large'])),1,0))"
      ]
    },
    {
      "cell_type": "code",
      "execution_count": 14,
      "metadata": {
        "id": "Ag5woSVYDHXA",
        "colab": {
          "base_uri": "https://localhost:8080/"
        },
        "outputId": "72aa533f-2377-4d83-e63f-c531dc8a7d72"
      },
      "outputs": [
        {
          "output_type": "stream",
          "name": "stdout",
          "text": [
            "328891\n",
            "250620\n"
          ]
        }
      ],
      "source": [
        "print(len(df1))\n",
        "df1 = df1[df1['record_keep']==1]\n",
        "print(len(df1))"
      ]
    },
    {
      "cell_type": "code",
      "execution_count": 15,
      "metadata": {
        "id": "V7_uR-HCDrEx"
      },
      "outputs": [],
      "source": [
        "df1['target_size_actual'] = np.where(df1['outcome']=='net', 'Fit',\n",
        "                                     np.where((df1['outcome']=='returned') & (df1['return_reason']=='Size Too Small'), 'Small',\n",
        "                                              np.where((df1['outcome']=='returned') & (df1['return_reason']=='Size Too Large'), 'Large', '')))"
      ]
    },
    {
      "cell_type": "code",
      "execution_count": 16,
      "metadata": {
        "id": "c3378GWumBtA",
        "colab": {
          "base_uri": "https://localhost:8080/"
        },
        "outputId": "600b5c7f-4ce5-42da-fe24-c50e4e257e8e"
      },
      "outputs": [
        {
          "output_type": "execute_result",
          "data": {
            "text/plain": [
              "Fit      191482\n",
              "Small     30628\n",
              "Large     28510\n",
              "Name: target_size_actual, dtype: int64"
            ]
          },
          "metadata": {},
          "execution_count": 16
        }
      ],
      "source": [
        "df1['target_size_actual'].value_counts()"
      ]
    },
    {
      "cell_type": "code",
      "execution_count": 17,
      "metadata": {
        "id": "SEheiyQlsVlO"
      },
      "outputs": [],
      "source": [
        "df1['target_size_actual'] = df1['target_size_actual'].str.lower()"
      ]
    },
    {
      "cell_type": "code",
      "execution_count": 18,
      "metadata": {
        "id": "aCKOc6WwsZwL",
        "colab": {
          "base_uri": "https://localhost:8080/"
        },
        "outputId": "023957e0-9e0d-45aa-f345-02d582c52a50"
      },
      "outputs": [
        {
          "output_type": "execute_result",
          "data": {
            "text/plain": [
              "fit      191482\n",
              "small     30628\n",
              "large     28510\n",
              "Name: target_size_actual, dtype: int64"
            ]
          },
          "metadata": {},
          "execution_count": 18
        }
      ],
      "source": [
        "df1['target_size_actual'].value_counts()"
      ]
    },
    {
      "cell_type": "code",
      "execution_count": 19,
      "metadata": {
        "id": "KrkyTrgPF8F9"
      },
      "outputs": [],
      "source": [
        "cols = ['id_customer', 'customer_age', 'gender', 'venture_code',  'sku_config', 'sku_simple',\n",
        "        'sub_category_type', 'size_brand', 'size_name', 'size_system_name',\n",
        "        'brand_name', 'product_gender', 'department_code', 'product_name',\n",
        "        'material', 'bust', 'waist', 'hip', 'target_size_actual']\n",
        "\n",
        "df2 = df1[cols].drop_duplicates()"
      ]
    },
    {
      "cell_type": "code",
      "execution_count": 20,
      "metadata": {
        "id": "4xToasv1Iazp"
      },
      "outputs": [],
      "source": [
        "#df2.head().to_csv('Purchase_data.csv', index=None)"
      ]
    },
    {
      "cell_type": "code",
      "execution_count": 21,
      "metadata": {
        "id": "Hhu7UVNZIq87",
        "colab": {
          "base_uri": "https://localhost:8080/"
        },
        "outputId": "3d76c44b-6e7e-4606-cfc4-cbf6fd78f9e1"
      },
      "outputs": [
        {
          "output_type": "execute_result",
          "data": {
            "text/plain": [
              "(0.6172989236277128, 1.0)"
            ]
          },
          "metadata": {},
          "execution_count": 21
        }
      ],
      "source": [
        "len(df2[df2['customer_age'].notnull()])/len(df2), len(df2[df2['gender'].notnull()])/len(df2)"
      ]
    },
    {
      "cell_type": "code",
      "execution_count": 21,
      "metadata": {
        "id": "qrqGmpi4Vv7q"
      },
      "outputs": [],
      "source": []
    },
    {
      "cell_type": "code",
      "execution_count": 22,
      "metadata": {
        "id": "goTIJTedWK3V"
      },
      "outputs": [],
      "source": [
        "from sklearn import preprocessing\n",
        "le = preprocessing.LabelEncoder()\n",
        "df2['size_le'] = le.fit_transform(df2['size_name'])"
      ]
    },
    {
      "cell_type": "code",
      "execution_count": 23,
      "metadata": {
        "id": "xkNBOOUkX0sf"
      },
      "outputs": [],
      "source": [
        "df2['sku_le'] = le.fit_transform(df2['sku_config'])"
      ]
    },
    {
      "cell_type": "code",
      "execution_count": 24,
      "metadata": {
        "id": "JYOTFhJRYLqe",
        "colab": {
          "base_uri": "https://localhost:8080/"
        },
        "outputId": "15f343c5-53ed-42ce-c7fa-3e479f8f7843"
      },
      "outputs": [
        {
          "output_type": "execute_result",
          "data": {
            "text/plain": [
              "dtype('int64')"
            ]
          },
          "metadata": {},
          "execution_count": 24
        }
      ],
      "source": [
        "df2['sku_le'].dtypes"
      ]
    },
    {
      "cell_type": "code",
      "execution_count": 25,
      "metadata": {
        "id": "D0nvil12F8Im",
        "colab": {
          "base_uri": "https://localhost:8080/"
        },
        "outputId": "8fd35669-04f1-44ff-e7d7-e5b0a67afe52"
      },
      "outputs": [
        {
          "output_type": "execute_result",
          "data": {
            "text/plain": [
              "(68600, 8575, 8576)"
            ]
          },
          "metadata": {},
          "execution_count": 25
        }
      ],
      "source": [
        "random.seed(1)\n",
        "\n",
        "# Shuffle dataframe\n",
        "df2 = df2.sample(frac = 1)\n",
        "\n",
        "train_data = df2[:int(0.8*len(df2))]\n",
        "val_data = df2[int(0.8*len(df2)):int(0.9*len(df2))]\n",
        "test_data = df2[int(0.9*len(df2)):]\n",
        "\n",
        "len(train_data), len(val_data), len(test_data)"
      ]
    },
    {
      "cell_type": "code",
      "execution_count": 26,
      "metadata": {
        "id": "D0TAEVyXWLBP",
        "colab": {
          "base_uri": "https://localhost:8080/"
        },
        "outputId": "43277ccb-3200-4379-baea-a8bc7ac43266"
      },
      "outputs": [
        {
          "output_type": "execute_result",
          "data": {
            "text/plain": [
              "id_customer             int64\n",
              "customer_age          float64\n",
              "gender                 object\n",
              "venture_code           object\n",
              "sku_config             object\n",
              "sku_simple             object\n",
              "sub_category_type      object\n",
              "size_brand             object\n",
              "size_name              object\n",
              "size_system_name       object\n",
              "brand_name             object\n",
              "product_gender         object\n",
              "department_code        object\n",
              "product_name           object\n",
              "material               object\n",
              "bust                   object\n",
              "waist                  object\n",
              "hip                    object\n",
              "target_size_actual     object\n",
              "size_le                 int64\n",
              "sku_le                  int64\n",
              "dtype: object"
            ]
          },
          "metadata": {},
          "execution_count": 26
        }
      ],
      "source": [
        "train_data.dtypes"
      ]
    },
    {
      "cell_type": "code",
      "execution_count": 27,
      "metadata": {
        "id": "8NeQ20ZDkHXa",
        "colab": {
          "base_uri": "https://localhost:8080/",
          "height": 162
        },
        "outputId": "cb61a97b-528a-4f72-a004-441cc468b02d"
      },
      "outputs": [
        {
          "output_type": "execute_result",
          "data": {
            "text/plain": [
              "        id_customer  customer_age  gender venture_code        sku_config               sku_simple sub_category_type size_brand size_name size_system_name brand_name product_gender department_code         product_name      material bust waist hip target_size_actual  size_le  sku_le\n",
              "517161      1060264       38.0000  female           hk  7917EAA3CD3B90GS  7917EAA3CD3B90GS-041YMO           Dresses                    M    International      Mango         Female             RBC  Printed Strap Dress  100% Viscose   40    38  48                fit       45    2571"
            ],
            "text/html": [
              "\n",
              "\n",
              "  <div id=\"df-6644b3be-8934-4cb2-8378-f04bc747565d\">\n",
              "    <div class=\"colab-df-container\">\n",
              "      <div>\n",
              "<style scoped>\n",
              "    .dataframe tbody tr th:only-of-type {\n",
              "        vertical-align: middle;\n",
              "    }\n",
              "\n",
              "    .dataframe tbody tr th {\n",
              "        vertical-align: top;\n",
              "    }\n",
              "\n",
              "    .dataframe thead th {\n",
              "        text-align: right;\n",
              "    }\n",
              "</style>\n",
              "<table border=\"1\" class=\"dataframe\">\n",
              "  <thead>\n",
              "    <tr style=\"text-align: right;\">\n",
              "      <th></th>\n",
              "      <th>id_customer</th>\n",
              "      <th>customer_age</th>\n",
              "      <th>gender</th>\n",
              "      <th>venture_code</th>\n",
              "      <th>sku_config</th>\n",
              "      <th>sku_simple</th>\n",
              "      <th>sub_category_type</th>\n",
              "      <th>size_brand</th>\n",
              "      <th>size_name</th>\n",
              "      <th>size_system_name</th>\n",
              "      <th>brand_name</th>\n",
              "      <th>product_gender</th>\n",
              "      <th>department_code</th>\n",
              "      <th>product_name</th>\n",
              "      <th>material</th>\n",
              "      <th>bust</th>\n",
              "      <th>waist</th>\n",
              "      <th>hip</th>\n",
              "      <th>target_size_actual</th>\n",
              "      <th>size_le</th>\n",
              "      <th>sku_le</th>\n",
              "    </tr>\n",
              "  </thead>\n",
              "  <tbody>\n",
              "    <tr>\n",
              "      <th>517161</th>\n",
              "      <td>1060264</td>\n",
              "      <td>38.0000</td>\n",
              "      <td>female</td>\n",
              "      <td>hk</td>\n",
              "      <td>7917EAA3CD3B90GS</td>\n",
              "      <td>7917EAA3CD3B90GS-041YMO</td>\n",
              "      <td>Dresses</td>\n",
              "      <td></td>\n",
              "      <td>M</td>\n",
              "      <td>International</td>\n",
              "      <td>Mango</td>\n",
              "      <td>Female</td>\n",
              "      <td>RBC</td>\n",
              "      <td>Printed Strap Dress</td>\n",
              "      <td>100% Viscose</td>\n",
              "      <td>40</td>\n",
              "      <td>38</td>\n",
              "      <td>48</td>\n",
              "      <td>fit</td>\n",
              "      <td>45</td>\n",
              "      <td>2571</td>\n",
              "    </tr>\n",
              "  </tbody>\n",
              "</table>\n",
              "</div>\n",
              "      <button class=\"colab-df-convert\" onclick=\"convertToInteractive('df-6644b3be-8934-4cb2-8378-f04bc747565d')\"\n",
              "              title=\"Convert this dataframe to an interactive table.\"\n",
              "              style=\"display:none;\">\n",
              "\n",
              "  <svg xmlns=\"http://www.w3.org/2000/svg\" height=\"24px\"viewBox=\"0 0 24 24\"\n",
              "       width=\"24px\">\n",
              "    <path d=\"M0 0h24v24H0V0z\" fill=\"none\"/>\n",
              "    <path d=\"M18.56 5.44l.94 2.06.94-2.06 2.06-.94-2.06-.94-.94-2.06-.94 2.06-2.06.94zm-11 1L8.5 8.5l.94-2.06 2.06-.94-2.06-.94L8.5 2.5l-.94 2.06-2.06.94zm10 10l.94 2.06.94-2.06 2.06-.94-2.06-.94-.94-2.06-.94 2.06-2.06.94z\"/><path d=\"M17.41 7.96l-1.37-1.37c-.4-.4-.92-.59-1.43-.59-.52 0-1.04.2-1.43.59L10.3 9.45l-7.72 7.72c-.78.78-.78 2.05 0 2.83L4 21.41c.39.39.9.59 1.41.59.51 0 1.02-.2 1.41-.59l7.78-7.78 2.81-2.81c.8-.78.8-2.07 0-2.86zM5.41 20L4 18.59l7.72-7.72 1.47 1.35L5.41 20z\"/>\n",
              "  </svg>\n",
              "      </button>\n",
              "\n",
              "\n",
              "\n",
              "    <div id=\"df-00ab19eb-b732-4829-a82b-54e0eb64739f\">\n",
              "      <button class=\"colab-df-quickchart\" onclick=\"quickchart('df-00ab19eb-b732-4829-a82b-54e0eb64739f')\"\n",
              "              title=\"Suggest charts.\"\n",
              "              style=\"display:none;\">\n",
              "\n",
              "<svg xmlns=\"http://www.w3.org/2000/svg\" height=\"24px\"viewBox=\"0 0 24 24\"\n",
              "     width=\"24px\">\n",
              "    <g>\n",
              "        <path d=\"M19 3H5c-1.1 0-2 .9-2 2v14c0 1.1.9 2 2 2h14c1.1 0 2-.9 2-2V5c0-1.1-.9-2-2-2zM9 17H7v-7h2v7zm4 0h-2V7h2v10zm4 0h-2v-4h2v4z\"/>\n",
              "    </g>\n",
              "</svg>\n",
              "      </button>\n",
              "    </div>\n",
              "\n",
              "<style>\n",
              "  .colab-df-quickchart {\n",
              "    background-color: #E8F0FE;\n",
              "    border: none;\n",
              "    border-radius: 50%;\n",
              "    cursor: pointer;\n",
              "    display: none;\n",
              "    fill: #1967D2;\n",
              "    height: 32px;\n",
              "    padding: 0 0 0 0;\n",
              "    width: 32px;\n",
              "  }\n",
              "\n",
              "  .colab-df-quickchart:hover {\n",
              "    background-color: #E2EBFA;\n",
              "    box-shadow: 0px 1px 2px rgba(60, 64, 67, 0.3), 0px 1px 3px 1px rgba(60, 64, 67, 0.15);\n",
              "    fill: #174EA6;\n",
              "  }\n",
              "\n",
              "  [theme=dark] .colab-df-quickchart {\n",
              "    background-color: #3B4455;\n",
              "    fill: #D2E3FC;\n",
              "  }\n",
              "\n",
              "  [theme=dark] .colab-df-quickchart:hover {\n",
              "    background-color: #434B5C;\n",
              "    box-shadow: 0px 1px 3px 1px rgba(0, 0, 0, 0.15);\n",
              "    filter: drop-shadow(0px 1px 2px rgba(0, 0, 0, 0.3));\n",
              "    fill: #FFFFFF;\n",
              "  }\n",
              "</style>\n",
              "\n",
              "    <script>\n",
              "      async function quickchart(key) {\n",
              "        const containerElement = document.querySelector('#' + key);\n",
              "        const charts = await google.colab.kernel.invokeFunction(\n",
              "            'suggestCharts', [key], {});\n",
              "      }\n",
              "    </script>\n",
              "\n",
              "      <script>\n",
              "\n",
              "function displayQuickchartButton(domScope) {\n",
              "  let quickchartButtonEl =\n",
              "    domScope.querySelector('#df-00ab19eb-b732-4829-a82b-54e0eb64739f button.colab-df-quickchart');\n",
              "  quickchartButtonEl.style.display =\n",
              "    google.colab.kernel.accessAllowed ? 'block' : 'none';\n",
              "}\n",
              "\n",
              "        displayQuickchartButton(document);\n",
              "      </script>\n",
              "      <style>\n",
              "    .colab-df-container {\n",
              "      display:flex;\n",
              "      flex-wrap:wrap;\n",
              "      gap: 12px;\n",
              "    }\n",
              "\n",
              "    .colab-df-convert {\n",
              "      background-color: #E8F0FE;\n",
              "      border: none;\n",
              "      border-radius: 50%;\n",
              "      cursor: pointer;\n",
              "      display: none;\n",
              "      fill: #1967D2;\n",
              "      height: 32px;\n",
              "      padding: 0 0 0 0;\n",
              "      width: 32px;\n",
              "    }\n",
              "\n",
              "    .colab-df-convert:hover {\n",
              "      background-color: #E2EBFA;\n",
              "      box-shadow: 0px 1px 2px rgba(60, 64, 67, 0.3), 0px 1px 3px 1px rgba(60, 64, 67, 0.15);\n",
              "      fill: #174EA6;\n",
              "    }\n",
              "\n",
              "    [theme=dark] .colab-df-convert {\n",
              "      background-color: #3B4455;\n",
              "      fill: #D2E3FC;\n",
              "    }\n",
              "\n",
              "    [theme=dark] .colab-df-convert:hover {\n",
              "      background-color: #434B5C;\n",
              "      box-shadow: 0px 1px 3px 1px rgba(0, 0, 0, 0.15);\n",
              "      filter: drop-shadow(0px 1px 2px rgba(0, 0, 0, 0.3));\n",
              "      fill: #FFFFFF;\n",
              "    }\n",
              "  </style>\n",
              "\n",
              "      <script>\n",
              "        const buttonEl =\n",
              "          document.querySelector('#df-6644b3be-8934-4cb2-8378-f04bc747565d button.colab-df-convert');\n",
              "        buttonEl.style.display =\n",
              "          google.colab.kernel.accessAllowed ? 'block' : 'none';\n",
              "\n",
              "        async function convertToInteractive(key) {\n",
              "          const element = document.querySelector('#df-6644b3be-8934-4cb2-8378-f04bc747565d');\n",
              "          const dataTable =\n",
              "            await google.colab.kernel.invokeFunction('convertToInteractive',\n",
              "                                                     [key], {});\n",
              "          if (!dataTable) return;\n",
              "\n",
              "          const docLinkHtml = 'Like what you see? Visit the ' +\n",
              "            '<a target=\"_blank\" href=https://colab.research.google.com/notebooks/data_table.ipynb>data table notebook</a>'\n",
              "            + ' to learn more about interactive tables.';\n",
              "          element.innerHTML = '';\n",
              "          dataTable['output_type'] = 'display_data';\n",
              "          await google.colab.output.renderOutput(dataTable, element);\n",
              "          const docLink = document.createElement('div');\n",
              "          docLink.innerHTML = docLinkHtml;\n",
              "          element.appendChild(docLink);\n",
              "        }\n",
              "      </script>\n",
              "    </div>\n",
              "  </div>\n"
            ]
          },
          "metadata": {},
          "execution_count": 27
        }
      ],
      "source": [
        "train_data.head(1)"
      ]
    },
    {
      "cell_type": "code",
      "execution_count": 28,
      "metadata": {
        "id": "CVu4mCMXGhaR",
        "colab": {
          "base_uri": "https://localhost:8080/"
        },
        "outputId": "b368d564-e330-4779-ebda-dee94eca2ebd"
      },
      "outputs": [
        {
          "output_type": "stream",
          "name": "stdout",
          "text": [
            "2571\n",
            "4190\n",
            "1694\n",
            "4919\n",
            "1831\n",
            "2436\n",
            "3189\n",
            "4944\n",
            "3808\n",
            "5166\n"
          ]
        }
      ],
      "source": [
        "for i,r in train_data[0:10].iterrows():\n",
        "  print(r['sku_le'])"
      ]
    },
    {
      "cell_type": "markdown",
      "metadata": {
        "id": "MRM11QQSFrea"
      },
      "source": [
        "## Index user and **items**"
      ]
    },
    {
      "cell_type": "code",
      "execution_count": 29,
      "metadata": {
        "id": "C9D6e4SDFpLC"
      },
      "outputs": [],
      "source": [
        "\n",
        "item_data = {}\n",
        "item_index = {}\n",
        "user_index = {}\n",
        "user_data = {}\n",
        "u_index = 0\n",
        "i_index = 0\n",
        "for index, r in train_data.iterrows():\n",
        "    if str(r['sku_le']) + '|' + str(r['size_le']) not in item_data:\n",
        "        item_data[str(r['sku_le']) + '|' + str(r['size_le'])] = [r]\n",
        "        item_index[str(r['sku_le']) + '|' + str(r['size_le'])] = i_index\n",
        "        i_index += 1\n",
        "    else:\n",
        "        item_data[str(r['sku_le']) + '|' + str(r['size_le'])].append(r)\n",
        "\n",
        "    if r['id_customer'] not in user_data:\n",
        "        user_data[r['id_customer']] = [r]\n",
        "        user_index[r['id_customer']] = u_index\n",
        "        u_index += 1\n",
        "    else:\n",
        "        user_data[r['id_customer']].append(r)"
      ]
    },
    {
      "cell_type": "code",
      "execution_count": 30,
      "metadata": {
        "id": "wEh3RFZUFpN9",
        "colab": {
          "base_uri": "https://localhost:8080/"
        },
        "outputId": "8066989c-75b4-431a-90e9-687a7a647a83"
      },
      "outputs": [
        {
          "output_type": "execute_result",
          "data": {
            "text/plain": [
              "(44999, 44999, 12799, 12799)"
            ]
          },
          "metadata": {},
          "execution_count": 30
        }
      ],
      "source": [
        "len(user_data), len(user_index), len(item_data), len(item_index)"
      ]
    },
    {
      "cell_type": "code",
      "execution_count": 31,
      "metadata": {
        "id": "iDweud2_wkyP"
      },
      "outputs": [],
      "source": [
        "#item_data"
      ]
    },
    {
      "cell_type": "code",
      "execution_count": 32,
      "metadata": {
        "id": "pcNibL2_FpQ1"
      },
      "outputs": [],
      "source": [
        "true_size_item = np.zeros(len(item_data))\n",
        "true_size_cust = np.zeros(len(user_data))\n",
        "w = 1; b_1 = -1; b_2 = 1; lamda = 2\n",
        "\n",
        "for item in item_data:\n",
        "    true_size_item[item_index[item]] = int(item.split('|')[1])"
      ]
    },
    {
      "cell_type": "code",
      "execution_count": 33,
      "metadata": {
        "id": "POHn7Qh6wJ6S",
        "colab": {
          "base_uri": "https://localhost:8080/"
        },
        "outputId": "6fb682ba-7f33-46e2-8c90-e0f827c7600f"
      },
      "outputs": [
        {
          "output_type": "execute_result",
          "data": {
            "text/plain": [
              "array([45., 19., 57., 33., 57., 51., 57., 44., 21., 52.])"
            ]
          },
          "metadata": {},
          "execution_count": 33
        }
      ],
      "source": [
        "true_size_item[:10]"
      ]
    },
    {
      "cell_type": "code",
      "execution_count": 34,
      "metadata": {
        "id": "trUv1-fikdXT"
      },
      "outputs": [],
      "source": [
        "from sklearn.metrics import roc_auc_score\n",
        "from sklearn.preprocessing import label_binarize"
      ]
    },
    {
      "cell_type": "code",
      "execution_count": 41,
      "metadata": {
        "id": "XclmFJhKFpTp"
      },
      "outputs": [],
      "source": [
        "from sklearn.linear_model import LogisticRegression\n",
        "from xgboost import XGBClassifier\n",
        "\n",
        "\n",
        "def calc_auc():\n",
        "    train_features = []\n",
        "    train_labels = []\n",
        "    for i,r in train_data.iterrows():\n",
        "        fe = []\n",
        "        fe.append(true_size_cust[user_index[r['id_customer']]])\n",
        "        fe.append(true_size_item[item_index[str(r['sku_le']) + '|' + str(r['size_le'])]])\n",
        "        train_features.append(fe)\n",
        "\n",
        "        if 'small' in r['target_size_actual']:\n",
        "            train_labels.append(0)\n",
        "        elif 'fit' in r['target_size_actual']:\n",
        "            train_labels.append(1)\n",
        "        elif 'large' in r['target_size_actual']:\n",
        "            train_labels.append(2)\n",
        "\n",
        "    c = 1\n",
        "    #clf_1LV = LogisticRegression(fit_intercept=True, multi_class='ovr', C=c)\n",
        "\n",
        "\n",
        "\n",
        "    clf_1LV = XGBClassifier(random_state=1, n_estimators=500, nfold=5, metrics=[\"mlogloss\", \"auc\"])\n",
        "\n",
        "\n",
        "    clf_1LV.fit(train_features, train_labels)\n",
        "\n",
        "    test_features = []; test_labels = []; test_labels_auc = []\n",
        "    for i,r in test_data.iterrows():\n",
        "        fe = []\n",
        "        try:\n",
        "            fe.append(true_size_cust[user_index[r['id_customer']]])\n",
        "        except KeyError:\n",
        "            fe.append(np.mean(true_size_cust))\n",
        "        try:\n",
        "            fe.append(true_size_item[item_index[str(r['sku_le']) + '|' + str(r['size_le'])]])\n",
        "        except KeyError:\n",
        "            fe.append(np.mean(true_size_item))\n",
        "\n",
        "        test_features.append(fe)\n",
        "        label = [0, 0, 0]\n",
        "        if 'small' in r['target_size_actual']:\n",
        "            test_labels.append(0)\n",
        "            label[0] = 1\n",
        "        elif 'fit' in r['target_size_actual']:\n",
        "            test_labels.append(1)\n",
        "            label[1] = 1\n",
        "        elif 'large' in r['target_size_actual']:\n",
        "            test_labels.append(2)\n",
        "            label[2] = 1\n",
        "        test_labels_auc.append(label)\n",
        "\n",
        "    test_labels_auc = np.array(test_labels_auc)\n",
        "\n",
        "    from sklearn.metrics import roc_auc_score\n",
        "    from sklearn.preprocessing import label_binarize\n",
        "\n",
        "    pred = clf_1LV.predict_proba(test_features)\n",
        "    AUC = []\n",
        "    for i in range(3):\n",
        "        AUC.append(roc_auc_score(test_labels_auc[:,i], pred[:,i], average='weighted'))\n",
        "    print('Average AUC', np.mean(AUC), AUC)"
      ]
    },
    {
      "cell_type": "code",
      "execution_count": 36,
      "metadata": {
        "colab": {
          "base_uri": "https://localhost:8080/",
          "height": 409
        },
        "id": "JHDMH3E-FpWy",
        "outputId": "2bb652d3-d5d2-42b4-be0f-b669fce66c5e"
      },
      "outputs": [
        {
          "output_type": "execute_result",
          "data": {
            "text/plain": [
              "         id_customer  customer_age  gender venture_code        sku_config               sku_simple sub_category_type size_brand size_name size_system_name          brand_name product_gender department_code                            product_name                    material  bust waist   hip target_size_actual  size_le  sku_le\n",
              "517161       1060264       38.0000  female           hk  7917EAA3CD3B90GS  7917EAA3CD3B90GS-041YMO           Dresses                    M    International               Mango         Female             RBC                     Printed Strap Dress                100% Viscose    40    38    48                fit       45    2571\n",
              "960492        469173           NaN  female           hk  C4E20AAD3C3F3CGS  C4E20AAD3C3F3CGS-063CBC           Dresses                   36               EU            Trendyol         Female             RBO                  Side Ruched Mini Dress  96% Polyester, 4% Elastane    38    31    36              large       19    4190\n",
              "1185818      8329650           NaN                   id  50E5DAA184ED97GS  50E5DAA184ED97GS-093YPY           Dresses                   XS    International  Something Borrowed         Female             RPL  Scoop Back Pleated Chiffon Swing Dress                   Polyblend  36.5  28.5  48.5                fit       57    1694\n",
              "1836322      1982848       35.0000  female           my  E880AAAF09550BGS  E880AAAF09550BGS-034KGB           Dresses                   46               EU            Trendyol         Female             RBO            Plus Size Floral Print Dress                100% Viscose    61    51  66.5                fit       33    4919\n",
              "360060       8259537       25.0000  female           id  56A98AACD78EF0GS  56A98AACD78EF0GS-046CEJ           Dresses                   XS    International              ZALORA         Female             RPL              V-Neck Cold Shoulder Dress              100% Polyester  38.5  34.5  45.5                fit       57    1831"
            ],
            "text/html": [
              "\n",
              "\n",
              "  <div id=\"df-d8b88761-848f-494d-bcbd-02a745a10cda\">\n",
              "    <div class=\"colab-df-container\">\n",
              "      <div>\n",
              "<style scoped>\n",
              "    .dataframe tbody tr th:only-of-type {\n",
              "        vertical-align: middle;\n",
              "    }\n",
              "\n",
              "    .dataframe tbody tr th {\n",
              "        vertical-align: top;\n",
              "    }\n",
              "\n",
              "    .dataframe thead th {\n",
              "        text-align: right;\n",
              "    }\n",
              "</style>\n",
              "<table border=\"1\" class=\"dataframe\">\n",
              "  <thead>\n",
              "    <tr style=\"text-align: right;\">\n",
              "      <th></th>\n",
              "      <th>id_customer</th>\n",
              "      <th>customer_age</th>\n",
              "      <th>gender</th>\n",
              "      <th>venture_code</th>\n",
              "      <th>sku_config</th>\n",
              "      <th>sku_simple</th>\n",
              "      <th>sub_category_type</th>\n",
              "      <th>size_brand</th>\n",
              "      <th>size_name</th>\n",
              "      <th>size_system_name</th>\n",
              "      <th>brand_name</th>\n",
              "      <th>product_gender</th>\n",
              "      <th>department_code</th>\n",
              "      <th>product_name</th>\n",
              "      <th>material</th>\n",
              "      <th>bust</th>\n",
              "      <th>waist</th>\n",
              "      <th>hip</th>\n",
              "      <th>target_size_actual</th>\n",
              "      <th>size_le</th>\n",
              "      <th>sku_le</th>\n",
              "    </tr>\n",
              "  </thead>\n",
              "  <tbody>\n",
              "    <tr>\n",
              "      <th>517161</th>\n",
              "      <td>1060264</td>\n",
              "      <td>38.0000</td>\n",
              "      <td>female</td>\n",
              "      <td>hk</td>\n",
              "      <td>7917EAA3CD3B90GS</td>\n",
              "      <td>7917EAA3CD3B90GS-041YMO</td>\n",
              "      <td>Dresses</td>\n",
              "      <td></td>\n",
              "      <td>M</td>\n",
              "      <td>International</td>\n",
              "      <td>Mango</td>\n",
              "      <td>Female</td>\n",
              "      <td>RBC</td>\n",
              "      <td>Printed Strap Dress</td>\n",
              "      <td>100% Viscose</td>\n",
              "      <td>40</td>\n",
              "      <td>38</td>\n",
              "      <td>48</td>\n",
              "      <td>fit</td>\n",
              "      <td>45</td>\n",
              "      <td>2571</td>\n",
              "    </tr>\n",
              "    <tr>\n",
              "      <th>960492</th>\n",
              "      <td>469173</td>\n",
              "      <td>NaN</td>\n",
              "      <td>female</td>\n",
              "      <td>hk</td>\n",
              "      <td>C4E20AAD3C3F3CGS</td>\n",
              "      <td>C4E20AAD3C3F3CGS-063CBC</td>\n",
              "      <td>Dresses</td>\n",
              "      <td></td>\n",
              "      <td>36</td>\n",
              "      <td>EU</td>\n",
              "      <td>Trendyol</td>\n",
              "      <td>Female</td>\n",
              "      <td>RBO</td>\n",
              "      <td>Side Ruched Mini Dress</td>\n",
              "      <td>96% Polyester, 4% Elastane</td>\n",
              "      <td>38</td>\n",
              "      <td>31</td>\n",
              "      <td>36</td>\n",
              "      <td>large</td>\n",
              "      <td>19</td>\n",
              "      <td>4190</td>\n",
              "    </tr>\n",
              "    <tr>\n",
              "      <th>1185818</th>\n",
              "      <td>8329650</td>\n",
              "      <td>NaN</td>\n",
              "      <td></td>\n",
              "      <td>id</td>\n",
              "      <td>50E5DAA184ED97GS</td>\n",
              "      <td>50E5DAA184ED97GS-093YPY</td>\n",
              "      <td>Dresses</td>\n",
              "      <td></td>\n",
              "      <td>XS</td>\n",
              "      <td>International</td>\n",
              "      <td>Something Borrowed</td>\n",
              "      <td>Female</td>\n",
              "      <td>RPL</td>\n",
              "      <td>Scoop Back Pleated Chiffon Swing Dress</td>\n",
              "      <td>Polyblend</td>\n",
              "      <td>36.5</td>\n",
              "      <td>28.5</td>\n",
              "      <td>48.5</td>\n",
              "      <td>fit</td>\n",
              "      <td>57</td>\n",
              "      <td>1694</td>\n",
              "    </tr>\n",
              "    <tr>\n",
              "      <th>1836322</th>\n",
              "      <td>1982848</td>\n",
              "      <td>35.0000</td>\n",
              "      <td>female</td>\n",
              "      <td>my</td>\n",
              "      <td>E880AAAF09550BGS</td>\n",
              "      <td>E880AAAF09550BGS-034KGB</td>\n",
              "      <td>Dresses</td>\n",
              "      <td></td>\n",
              "      <td>46</td>\n",
              "      <td>EU</td>\n",
              "      <td>Trendyol</td>\n",
              "      <td>Female</td>\n",
              "      <td>RBO</td>\n",
              "      <td>Plus Size Floral Print Dress</td>\n",
              "      <td>100% Viscose</td>\n",
              "      <td>61</td>\n",
              "      <td>51</td>\n",
              "      <td>66.5</td>\n",
              "      <td>fit</td>\n",
              "      <td>33</td>\n",
              "      <td>4919</td>\n",
              "    </tr>\n",
              "    <tr>\n",
              "      <th>360060</th>\n",
              "      <td>8259537</td>\n",
              "      <td>25.0000</td>\n",
              "      <td>female</td>\n",
              "      <td>id</td>\n",
              "      <td>56A98AACD78EF0GS</td>\n",
              "      <td>56A98AACD78EF0GS-046CEJ</td>\n",
              "      <td>Dresses</td>\n",
              "      <td></td>\n",
              "      <td>XS</td>\n",
              "      <td>International</td>\n",
              "      <td>ZALORA</td>\n",
              "      <td>Female</td>\n",
              "      <td>RPL</td>\n",
              "      <td>V-Neck Cold Shoulder Dress</td>\n",
              "      <td>100% Polyester</td>\n",
              "      <td>38.5</td>\n",
              "      <td>34.5</td>\n",
              "      <td>45.5</td>\n",
              "      <td>fit</td>\n",
              "      <td>57</td>\n",
              "      <td>1831</td>\n",
              "    </tr>\n",
              "  </tbody>\n",
              "</table>\n",
              "</div>\n",
              "      <button class=\"colab-df-convert\" onclick=\"convertToInteractive('df-d8b88761-848f-494d-bcbd-02a745a10cda')\"\n",
              "              title=\"Convert this dataframe to an interactive table.\"\n",
              "              style=\"display:none;\">\n",
              "\n",
              "  <svg xmlns=\"http://www.w3.org/2000/svg\" height=\"24px\"viewBox=\"0 0 24 24\"\n",
              "       width=\"24px\">\n",
              "    <path d=\"M0 0h24v24H0V0z\" fill=\"none\"/>\n",
              "    <path d=\"M18.56 5.44l.94 2.06.94-2.06 2.06-.94-2.06-.94-.94-2.06-.94 2.06-2.06.94zm-11 1L8.5 8.5l.94-2.06 2.06-.94-2.06-.94L8.5 2.5l-.94 2.06-2.06.94zm10 10l.94 2.06.94-2.06 2.06-.94-2.06-.94-.94-2.06-.94 2.06-2.06.94z\"/><path d=\"M17.41 7.96l-1.37-1.37c-.4-.4-.92-.59-1.43-.59-.52 0-1.04.2-1.43.59L10.3 9.45l-7.72 7.72c-.78.78-.78 2.05 0 2.83L4 21.41c.39.39.9.59 1.41.59.51 0 1.02-.2 1.41-.59l7.78-7.78 2.81-2.81c.8-.78.8-2.07 0-2.86zM5.41 20L4 18.59l7.72-7.72 1.47 1.35L5.41 20z\"/>\n",
              "  </svg>\n",
              "      </button>\n",
              "\n",
              "\n",
              "\n",
              "    <div id=\"df-6951e526-d723-4d61-8dc8-c048b1e9c90f\">\n",
              "      <button class=\"colab-df-quickchart\" onclick=\"quickchart('df-6951e526-d723-4d61-8dc8-c048b1e9c90f')\"\n",
              "              title=\"Suggest charts.\"\n",
              "              style=\"display:none;\">\n",
              "\n",
              "<svg xmlns=\"http://www.w3.org/2000/svg\" height=\"24px\"viewBox=\"0 0 24 24\"\n",
              "     width=\"24px\">\n",
              "    <g>\n",
              "        <path d=\"M19 3H5c-1.1 0-2 .9-2 2v14c0 1.1.9 2 2 2h14c1.1 0 2-.9 2-2V5c0-1.1-.9-2-2-2zM9 17H7v-7h2v7zm4 0h-2V7h2v10zm4 0h-2v-4h2v4z\"/>\n",
              "    </g>\n",
              "</svg>\n",
              "      </button>\n",
              "    </div>\n",
              "\n",
              "<style>\n",
              "  .colab-df-quickchart {\n",
              "    background-color: #E8F0FE;\n",
              "    border: none;\n",
              "    border-radius: 50%;\n",
              "    cursor: pointer;\n",
              "    display: none;\n",
              "    fill: #1967D2;\n",
              "    height: 32px;\n",
              "    padding: 0 0 0 0;\n",
              "    width: 32px;\n",
              "  }\n",
              "\n",
              "  .colab-df-quickchart:hover {\n",
              "    background-color: #E2EBFA;\n",
              "    box-shadow: 0px 1px 2px rgba(60, 64, 67, 0.3), 0px 1px 3px 1px rgba(60, 64, 67, 0.15);\n",
              "    fill: #174EA6;\n",
              "  }\n",
              "\n",
              "  [theme=dark] .colab-df-quickchart {\n",
              "    background-color: #3B4455;\n",
              "    fill: #D2E3FC;\n",
              "  }\n",
              "\n",
              "  [theme=dark] .colab-df-quickchart:hover {\n",
              "    background-color: #434B5C;\n",
              "    box-shadow: 0px 1px 3px 1px rgba(0, 0, 0, 0.15);\n",
              "    filter: drop-shadow(0px 1px 2px rgba(0, 0, 0, 0.3));\n",
              "    fill: #FFFFFF;\n",
              "  }\n",
              "</style>\n",
              "\n",
              "    <script>\n",
              "      async function quickchart(key) {\n",
              "        const containerElement = document.querySelector('#' + key);\n",
              "        const charts = await google.colab.kernel.invokeFunction(\n",
              "            'suggestCharts', [key], {});\n",
              "      }\n",
              "    </script>\n",
              "\n",
              "      <script>\n",
              "\n",
              "function displayQuickchartButton(domScope) {\n",
              "  let quickchartButtonEl =\n",
              "    domScope.querySelector('#df-6951e526-d723-4d61-8dc8-c048b1e9c90f button.colab-df-quickchart');\n",
              "  quickchartButtonEl.style.display =\n",
              "    google.colab.kernel.accessAllowed ? 'block' : 'none';\n",
              "}\n",
              "\n",
              "        displayQuickchartButton(document);\n",
              "      </script>\n",
              "      <style>\n",
              "    .colab-df-container {\n",
              "      display:flex;\n",
              "      flex-wrap:wrap;\n",
              "      gap: 12px;\n",
              "    }\n",
              "\n",
              "    .colab-df-convert {\n",
              "      background-color: #E8F0FE;\n",
              "      border: none;\n",
              "      border-radius: 50%;\n",
              "      cursor: pointer;\n",
              "      display: none;\n",
              "      fill: #1967D2;\n",
              "      height: 32px;\n",
              "      padding: 0 0 0 0;\n",
              "      width: 32px;\n",
              "    }\n",
              "\n",
              "    .colab-df-convert:hover {\n",
              "      background-color: #E2EBFA;\n",
              "      box-shadow: 0px 1px 2px rgba(60, 64, 67, 0.3), 0px 1px 3px 1px rgba(60, 64, 67, 0.15);\n",
              "      fill: #174EA6;\n",
              "    }\n",
              "\n",
              "    [theme=dark] .colab-df-convert {\n",
              "      background-color: #3B4455;\n",
              "      fill: #D2E3FC;\n",
              "    }\n",
              "\n",
              "    [theme=dark] .colab-df-convert:hover {\n",
              "      background-color: #434B5C;\n",
              "      box-shadow: 0px 1px 3px 1px rgba(0, 0, 0, 0.15);\n",
              "      filter: drop-shadow(0px 1px 2px rgba(0, 0, 0, 0.3));\n",
              "      fill: #FFFFFF;\n",
              "    }\n",
              "  </style>\n",
              "\n",
              "      <script>\n",
              "        const buttonEl =\n",
              "          document.querySelector('#df-d8b88761-848f-494d-bcbd-02a745a10cda button.colab-df-convert');\n",
              "        buttonEl.style.display =\n",
              "          google.colab.kernel.accessAllowed ? 'block' : 'none';\n",
              "\n",
              "        async function convertToInteractive(key) {\n",
              "          const element = document.querySelector('#df-d8b88761-848f-494d-bcbd-02a745a10cda');\n",
              "          const dataTable =\n",
              "            await google.colab.kernel.invokeFunction('convertToInteractive',\n",
              "                                                     [key], {});\n",
              "          if (!dataTable) return;\n",
              "\n",
              "          const docLinkHtml = 'Like what you see? Visit the ' +\n",
              "            '<a target=\"_blank\" href=https://colab.research.google.com/notebooks/data_table.ipynb>data table notebook</a>'\n",
              "            + ' to learn more about interactive tables.';\n",
              "          element.innerHTML = '';\n",
              "          dataTable['output_type'] = 'display_data';\n",
              "          await google.colab.output.renderOutput(dataTable, element);\n",
              "          const docLink = document.createElement('div');\n",
              "          docLink.innerHTML = docLinkHtml;\n",
              "          element.appendChild(docLink);\n",
              "        }\n",
              "      </script>\n",
              "    </div>\n",
              "  </div>\n"
            ]
          },
          "metadata": {},
          "execution_count": 36
        }
      ],
      "source": [
        "train_data.head()"
      ]
    },
    {
      "cell_type": "code",
      "execution_count": 42,
      "metadata": {
        "id": "VmScdvQmFpZn"
      },
      "outputs": [],
      "source": [
        "def f(s,t):\n",
        "    return w*(s-t)\n",
        "\n",
        "def cal_loss_user(user, cust_size):\n",
        "    loss = 0\n",
        "    for r in user_data[user]:\n",
        "        if 'small' in r['target_size_actual']:\n",
        "            loss += max(0, 1 - f(cust_size, true_size_item[item_index[str(r['sku_le']) + '|' + str(r['size_le'])]]) + b_2)\n",
        "        elif 'fit' in r['target_size_actual']:\n",
        "            loss += max(0, 1 + f(cust_size, true_size_item[item_index[str(r['sku_le']) + '|' + str(r['size_le'])]]) - b_2)\n",
        "            loss += max(0, 1 - f(cust_size, true_size_item[item_index[str(r['sku_le']) + '|' + str(r['size_le'])]]) + b_1)\n",
        "        elif 'large' in r['target_size_actual']:\n",
        "            loss += max(0, 1 + f(cust_size, true_size_item[item_index[str(r['sku_le']) + '|' + str(r['size_le'])]]) - b_1)\n",
        "    return loss"
      ]
    },
    {
      "cell_type": "code",
      "execution_count": 43,
      "metadata": {
        "id": "0W2LV0mcFpc1"
      },
      "outputs": [],
      "source": [
        "def cal_loss_item(item, product_size):\n",
        "    loss = 0\n",
        "    for r in item_data[item]:\n",
        "        if 'small' in r['target_size_actual']:\n",
        "            loss += max(0, 1 - f(true_size_cust[user_index[r['id_customer']]], product_size) + b_2)\n",
        "        elif 'fit' in r['target_size_actual']:\n",
        "            loss += max(0, 1 + f(true_size_cust[user_index[r['id_customer']]], product_size) - b_2)\n",
        "            loss += max(0, 1 - f(true_size_cust[user_index[r['id_customer']]], product_size) + b_1)\n",
        "        elif 'large' in r['target_size_actual']:\n",
        "            loss += max(0, 1 + f(true_size_cust[user_index[r['id_customer']]], product_size) - b_1)\n",
        "    return loss"
      ]
    },
    {
      "cell_type": "code",
      "execution_count": 44,
      "metadata": {
        "id": "5zRcT08YFpfq"
      },
      "outputs": [],
      "source": [
        "def total_loss():\n",
        "    loss = 0\n",
        "    for item in item_data:\n",
        "        for r in item_data[item]:\n",
        "            product_size = true_size_item[item_index[str(r['sku_le']) + '|' + str(r['size_le'])]]\n",
        "            if 'small' in r['target_size_actual']:\n",
        "                loss += max(0, 1 - f(true_size_cust[user_index[r['id_customer']]], product_size) + b_2)\n",
        "            elif 'fit' in r['target_size_actual']:\n",
        "                loss += max(0, 1 + f(true_size_cust[user_index[r['id_customer']]], product_size) - b_2)\n",
        "                loss += max(0, 1 - f(true_size_cust[user_index[r['id_customer']]], product_size) + b_1)\n",
        "            elif 'large' in r['target_size_actual']:\n",
        "                loss += max(0, 1 + f(true_size_cust[user_index[r['id_customer']]], product_size) - b_1)\n",
        "    return loss"
      ]
    },
    {
      "cell_type": "code",
      "execution_count": 46,
      "metadata": {
        "id": "piBQbryZFpij",
        "colab": {
          "base_uri": "https://localhost:8080/"
        },
        "outputId": "fa9c93d9-58ae-4ce3-d58f-92c757e2ccd7"
      },
      "outputs": [
        {
          "output_type": "stream",
          "name": "stdout",
          "text": [
            "0 75757.51814349667\n",
            "[14:15:38] WARNING: ../src/learner.cc:767: \n",
            "Parameters: { \"metrics\", \"nfold\" } are not used.\n",
            "\n",
            "Average AUC 0.6176871770896125 [0.6523552567764219, 0.6001627678964653, 0.6005435065959506]\n",
            "5 62588.85142085235\n",
            "[14:18:09] WARNING: ../src/learner.cc:767: \n",
            "Parameters: { \"metrics\", \"nfold\" } are not used.\n",
            "\n",
            "Average AUC 0.6411538203787147 [0.6520677532615615, 0.6499266530953202, 0.6214670547792627]\n",
            "10 54288.36885730359\n",
            "[14:20:42] WARNING: ../src/learner.cc:767: \n",
            "Parameters: { \"metrics\", \"nfold\" } are not used.\n",
            "\n",
            "Average AUC 0.627794733907655 [0.6488581021573536, 0.6260682648303463, 0.6084578347352648]\n",
            "15 48069.339222314826\n",
            "[14:23:15] WARNING: ../src/learner.cc:767: \n",
            "Parameters: { \"metrics\", \"nfold\" } are not used.\n",
            "\n",
            "Average AUC 0.6123581920889011 [0.646299605654632, 0.6013070274801815, 0.5894679431318899]\n"
          ]
        }
      ],
      "source": [
        "for iterr in range(0,20):\n",
        "\n",
        "    ## Phase 1\n",
        "    for user in user_data:\n",
        "        candidate_sizes = []\n",
        "        for r in user_data[user]:\n",
        "            if 'small' in r['target_size_actual']:\n",
        "                candidate_sizes.append(true_size_item[item_index[str(r['sku_le']) + '|' + str(r['size_le'])]] + ((b_2+1)/w))\n",
        "            elif 'fit' in r['target_size_actual']:\n",
        "                candidate_sizes.append(true_size_item[item_index[str(r['sku_le']) + '|' + str(r['size_le'])]] + ((b_1+1)/w))\n",
        "                candidate_sizes.append(true_size_item[item_index[str(r['sku_le']) + '|' + str(r['size_le'])]] + ((b_2-1)/w))\n",
        "            elif 'large' in r['target_size_actual']:\n",
        "                candidate_sizes.append(true_size_item[item_index[str(r['sku_le']) + '|' + str(r['size_le'])]] + ((b_1-1)/w))\n",
        "\n",
        "        flag = 0\n",
        "        candidate_sizes = list(set(candidate_sizes))\n",
        "        candidate_sizes = sorted(candidate_sizes)\n",
        "\n",
        "        if len(candidate_sizes) == 1:\n",
        "            true_size_cust[user_index[user]] = candidate_sizes[0]\n",
        "        else:\n",
        "            for s in range(1, len(candidate_sizes)):\n",
        "                slope = (cal_loss_user(user, candidate_sizes[s]) - cal_loss_user(user, candidate_sizes[s-1]))/(candidate_sizes[s] - candidate_sizes[s-1])\n",
        "                if slope>=0:\n",
        "                    flag=1\n",
        "                    true_size_cust[user_index[user]] = candidate_sizes[s-1]\n",
        "                    break\n",
        "\n",
        "            if flag==0:\n",
        "                true_size_cust[user_index[user]] = candidate_sizes[-1]\n",
        "\n",
        "    ## Phase 2\n",
        "    for item in item_data:\n",
        "        candidate_sizes = []\n",
        "        for r in item_data[item]:\n",
        "            if 'small' in r['target_size_actual']:\n",
        "                candidate_sizes.append(true_size_cust[user_index[r['id_customer']]] - ((b_2+1)/w))\n",
        "            elif 'fit' in r['target_size_actual']:\n",
        "                candidate_sizes.append(true_size_cust[user_index[r['id_customer']]] - ((b_1+1)/w))\n",
        "                candidate_sizes.append(true_size_cust[user_index[r['id_customer']]] - ((b_2-1)/w))\n",
        "            elif 'large' in r['target_size_actual']:\n",
        "                candidate_sizes.append(true_size_cust[user_index[r['id_customer']]] - ((b_1-1)/w))\n",
        "\n",
        "        flag = 0\n",
        "        candidate_sizes = list(set(candidate_sizes))\n",
        "        candidate_sizes = sorted(candidate_sizes)\n",
        "        if len(candidate_sizes) == 1:\n",
        "            true_size_item[item_index[item]] = candidate_sizes[0]\n",
        "        else:\n",
        "            for s in range(1, len(candidate_sizes)):\n",
        "                slope = (cal_loss_item(item, candidate_sizes[s]) - cal_loss_item(item, candidate_sizes[s-1]))/(candidate_sizes[s] - candidate_sizes[s-1])\n",
        "                if slope>=0:\n",
        "                    flag=1\n",
        "                    true_size_item[item_index[item]] = candidate_sizes[s-1]\n",
        "                    break\n",
        "\n",
        "            if flag==0:\n",
        "                true_size_item[item_index[item]] = candidate_sizes[-1]\n",
        "\n",
        "    ## Phase 3\n",
        "    learning_rate = 0.0000005/np.sqrt(iterr+1)\n",
        "    grad_w = 0\n",
        "    grad_b1 = 0\n",
        "    grad_b2 = 0\n",
        "    for i,r in train_data.iterrows():\n",
        "        s = true_size_cust[user_index[r['id_customer']]]\n",
        "        t = true_size_item[item_index[str(r['sku_le']) + '|' + str(r['size_le'])]]\n",
        "\n",
        "        if 'small' in r['target_size_actual']:\n",
        "            A = 1 - f(s, t) + b_2\n",
        "            if A>0:\n",
        "                grad_w += -1*(s - t)\n",
        "                grad_b2 += 1\n",
        "        elif 'fit' in r['target_size_actual']:\n",
        "            B = 1 + f(s, t) - b_2\n",
        "            C = 1 - f(s, t) + b_1\n",
        "            if B>0:\n",
        "                grad_w += (s - t)\n",
        "                grad_b2 += -1\n",
        "            if C>0:\n",
        "                grad_w += -1*(s - t)\n",
        "                grad_b1 += 1\n",
        "        elif 'large' in r['target_size_actual']:\n",
        "            D = 1 + f(s, t) - b_1\n",
        "            if D>0:\n",
        "                grad_w += (s - t)\n",
        "                grad_b1 += -1\n",
        "\n",
        "    w -= learning_rate*(grad_w + 2*lamda*w)\n",
        "    b_1 -= learning_rate*(grad_b1 + 2*lamda*b_1)\n",
        "    b_2 -= learning_rate*(grad_b2 + 2*lamda*b_2)\n",
        "    if iterr%5 == 0:\n",
        "        print(iterr, total_loss())\n",
        "        calc_auc()"
      ]
    },
    {
      "cell_type": "code",
      "execution_count": null,
      "metadata": {
        "id": "3OuLPTLusK4r"
      },
      "outputs": [],
      "source": []
    },
    {
      "cell_type": "code",
      "execution_count": null,
      "metadata": {
        "id": "jmnK-XA1sK7L"
      },
      "outputs": [],
      "source": []
    },
    {
      "cell_type": "code",
      "execution_count": null,
      "metadata": {
        "id": "xsO0OL8hsK-P"
      },
      "outputs": [],
      "source": []
    },
    {
      "cell_type": "code",
      "execution_count": null,
      "metadata": {
        "id": "PdIX9bYasLAr"
      },
      "outputs": [],
      "source": []
    }
  ],
  "metadata": {
    "colab": {
      "provenance": [],
      "gpuType": "T4"
    },
    "kernelspec": {
      "display_name": "Python 3",
      "name": "python3"
    },
    "language_info": {
      "name": "python"
    },
    "accelerator": "GPU"
  },
  "nbformat": 4,
  "nbformat_minor": 0
}